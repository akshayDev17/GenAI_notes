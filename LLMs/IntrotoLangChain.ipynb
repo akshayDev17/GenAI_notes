{
 "cells": [
  {
   "cell_type": "code",
   "execution_count": 1,
   "id": "d3f9523d-a1ca-4b40-8177-719bb6ff6b40",
   "metadata": {
    "scrolled": true
   },
   "outputs": [
    {
     "name": "stdout",
     "output_type": "stream",
     "text": [
      "Requirement already satisfied: langchain in /Users/akshayprabhakant/miniconda3/lib/python3.9/site-packages (0.1.11)\n",
      "Requirement already satisfied: PyYAML>=5.3 in /Users/akshayprabhakant/miniconda3/lib/python3.9/site-packages (from langchain) (6.0.1)\n",
      "Requirement already satisfied: SQLAlchemy<3,>=1.4 in /Users/akshayprabhakant/miniconda3/lib/python3.9/site-packages (from langchain) (2.0.28)\n",
      "Requirement already satisfied: langchain-core<0.2,>=0.1.29 in /Users/akshayprabhakant/miniconda3/lib/python3.9/site-packages (from langchain) (0.1.30)\n",
      "Requirement already satisfied: dataclasses-json<0.7,>=0.5.7 in /Users/akshayprabhakant/miniconda3/lib/python3.9/site-packages (from langchain) (0.6.4)\n",
      "Requirement already satisfied: requests<3,>=2 in /Users/akshayprabhakant/miniconda3/lib/python3.9/site-packages (from langchain) (2.31.0)\n",
      "Requirement already satisfied: tenacity<9.0.0,>=8.1.0 in /Users/akshayprabhakant/miniconda3/lib/python3.9/site-packages (from langchain) (8.2.3)\n",
      "Requirement already satisfied: async-timeout<5.0.0,>=4.0.0 in /Users/akshayprabhakant/miniconda3/lib/python3.9/site-packages (from langchain) (4.0.3)\n",
      "Requirement already satisfied: jsonpatch<2.0,>=1.33 in /Users/akshayprabhakant/miniconda3/lib/python3.9/site-packages (from langchain) (1.33)\n",
      "Requirement already satisfied: langchain-community<0.1,>=0.0.25 in /Users/akshayprabhakant/miniconda3/lib/python3.9/site-packages (from langchain) (0.0.27)\n",
      "Requirement already satisfied: aiohttp<4.0.0,>=3.8.3 in /Users/akshayprabhakant/miniconda3/lib/python3.9/site-packages (from langchain) (3.9.3)\n",
      "Requirement already satisfied: pydantic<3,>=1 in /Users/akshayprabhakant/miniconda3/lib/python3.9/site-packages (from langchain) (2.6.3)\n",
      "Requirement already satisfied: langsmith<0.2.0,>=0.1.17 in /Users/akshayprabhakant/miniconda3/lib/python3.9/site-packages (from langchain) (0.1.23)\n",
      "Requirement already satisfied: numpy<2,>=1 in /Users/akshayprabhakant/miniconda3/lib/python3.9/site-packages (from langchain) (1.23.4)\n",
      "Requirement already satisfied: langchain-text-splitters<0.1,>=0.0.1 in /Users/akshayprabhakant/miniconda3/lib/python3.9/site-packages (from langchain) (0.0.1)\n",
      "Requirement already satisfied: attrs>=17.3.0 in /Users/akshayprabhakant/miniconda3/lib/python3.9/site-packages (from aiohttp<4.0.0,>=3.8.3->langchain) (23.1.0)\n",
      "Requirement already satisfied: multidict<7.0,>=4.5 in /Users/akshayprabhakant/miniconda3/lib/python3.9/site-packages (from aiohttp<4.0.0,>=3.8.3->langchain) (6.0.5)\n",
      "Requirement already satisfied: yarl<2.0,>=1.0 in /Users/akshayprabhakant/miniconda3/lib/python3.9/site-packages (from aiohttp<4.0.0,>=3.8.3->langchain) (1.9.4)\n",
      "Requirement already satisfied: frozenlist>=1.1.1 in /Users/akshayprabhakant/miniconda3/lib/python3.9/site-packages (from aiohttp<4.0.0,>=3.8.3->langchain) (1.4.1)\n",
      "Requirement already satisfied: aiosignal>=1.1.2 in /Users/akshayprabhakant/miniconda3/lib/python3.9/site-packages (from aiohttp<4.0.0,>=3.8.3->langchain) (1.3.1)\n",
      "Requirement already satisfied: marshmallow<4.0.0,>=3.18.0 in /Users/akshayprabhakant/miniconda3/lib/python3.9/site-packages (from dataclasses-json<0.7,>=0.5.7->langchain) (3.21.1)\n",
      "Requirement already satisfied: typing-inspect<1,>=0.4.0 in /Users/akshayprabhakant/miniconda3/lib/python3.9/site-packages (from dataclasses-json<0.7,>=0.5.7->langchain) (0.9.0)\n",
      "Requirement already satisfied: jsonpointer>=1.9 in /Users/akshayprabhakant/miniconda3/lib/python3.9/site-packages (from jsonpatch<2.0,>=1.33->langchain) (2.4)\n",
      "Requirement already satisfied: anyio<5,>=3 in /Users/akshayprabhakant/miniconda3/lib/python3.9/site-packages (from langchain-core<0.2,>=0.1.29->langchain) (3.7.1)\n",
      "Requirement already satisfied: packaging<24.0,>=23.2 in /Users/akshayprabhakant/miniconda3/lib/python3.9/site-packages (from langchain-core<0.2,>=0.1.29->langchain) (23.2)\n",
      "Requirement already satisfied: exceptiongroup in /Users/akshayprabhakant/miniconda3/lib/python3.9/site-packages (from anyio<5,>=3->langchain-core<0.2,>=0.1.29->langchain) (1.1.3)\n",
      "Requirement already satisfied: sniffio>=1.1 in /Users/akshayprabhakant/miniconda3/lib/python3.9/site-packages (from anyio<5,>=3->langchain-core<0.2,>=0.1.29->langchain) (1.3.0)\n",
      "Requirement already satisfied: idna>=2.8 in /Users/akshayprabhakant/miniconda3/lib/python3.9/site-packages (from anyio<5,>=3->langchain-core<0.2,>=0.1.29->langchain) (3.3)\n",
      "Requirement already satisfied: orjson<4.0.0,>=3.9.14 in /Users/akshayprabhakant/miniconda3/lib/python3.9/site-packages (from langsmith<0.2.0,>=0.1.17->langchain) (3.9.15)\n",
      "Requirement already satisfied: pydantic-core==2.16.3 in /Users/akshayprabhakant/miniconda3/lib/python3.9/site-packages (from pydantic<3,>=1->langchain) (2.16.3)\n",
      "Requirement already satisfied: annotated-types>=0.4.0 in /Users/akshayprabhakant/miniconda3/lib/python3.9/site-packages (from pydantic<3,>=1->langchain) (0.6.0)\n",
      "Requirement already satisfied: typing-extensions>=4.6.1 in /Users/akshayprabhakant/miniconda3/lib/python3.9/site-packages (from pydantic<3,>=1->langchain) (4.7.1)\n",
      "Requirement already satisfied: certifi>=2017.4.17 in /Users/akshayprabhakant/miniconda3/lib/python3.9/site-packages (from requests<3,>=2->langchain) (2022.12.7)\n",
      "Requirement already satisfied: urllib3<3,>=1.21.1 in /Users/akshayprabhakant/miniconda3/lib/python3.9/site-packages (from requests<3,>=2->langchain) (1.26.9)\n",
      "Requirement already satisfied: charset-normalizer<4,>=2 in /Users/akshayprabhakant/miniconda3/lib/python3.9/site-packages (from requests<3,>=2->langchain) (2.0.4)\n",
      "Requirement already satisfied: mypy-extensions>=0.3.0 in /Users/akshayprabhakant/miniconda3/lib/python3.9/site-packages (from typing-inspect<1,>=0.4.0->dataclasses-json<0.7,>=0.5.7->langchain) (1.0.0)\n",
      "Requirement already satisfied: openai in /Users/akshayprabhakant/miniconda3/lib/python3.9/site-packages (1.13.3)\n",
      "Requirement already satisfied: distro<2,>=1.7.0 in /Users/akshayprabhakant/miniconda3/lib/python3.9/site-packages (from openai) (1.9.0)\n",
      "Requirement already satisfied: sniffio in /Users/akshayprabhakant/miniconda3/lib/python3.9/site-packages (from openai) (1.3.0)\n",
      "Requirement already satisfied: httpx<1,>=0.23.0 in /Users/akshayprabhakant/miniconda3/lib/python3.9/site-packages (from openai) (0.27.0)\n",
      "Requirement already satisfied: anyio<5,>=3.5.0 in /Users/akshayprabhakant/miniconda3/lib/python3.9/site-packages (from openai) (3.7.1)\n",
      "Requirement already satisfied: tqdm>4 in /Users/akshayprabhakant/miniconda3/lib/python3.9/site-packages (from openai) (4.64.0)\n",
      "Requirement already satisfied: typing-extensions<5,>=4.7 in /Users/akshayprabhakant/miniconda3/lib/python3.9/site-packages (from openai) (4.7.1)\n",
      "Requirement already satisfied: pydantic<3,>=1.9.0 in /Users/akshayprabhakant/miniconda3/lib/python3.9/site-packages (from openai) (2.6.3)\n",
      "Requirement already satisfied: exceptiongroup in /Users/akshayprabhakant/miniconda3/lib/python3.9/site-packages (from anyio<5,>=3.5.0->openai) (1.1.3)\n",
      "Requirement already satisfied: idna>=2.8 in /Users/akshayprabhakant/miniconda3/lib/python3.9/site-packages (from anyio<5,>=3.5.0->openai) (3.3)\n",
      "Requirement already satisfied: httpcore==1.* in /Users/akshayprabhakant/miniconda3/lib/python3.9/site-packages (from httpx<1,>=0.23.0->openai) (1.0.4)\n",
      "Requirement already satisfied: certifi in /Users/akshayprabhakant/miniconda3/lib/python3.9/site-packages (from httpx<1,>=0.23.0->openai) (2022.12.7)\n",
      "Requirement already satisfied: h11<0.15,>=0.13 in /Users/akshayprabhakant/miniconda3/lib/python3.9/site-packages (from httpcore==1.*->httpx<1,>=0.23.0->openai) (0.14.0)\n",
      "Requirement already satisfied: annotated-types>=0.4.0 in /Users/akshayprabhakant/miniconda3/lib/python3.9/site-packages (from pydantic<3,>=1.9.0->openai) (0.6.0)\n",
      "Requirement already satisfied: pydantic-core==2.16.3 in /Users/akshayprabhakant/miniconda3/lib/python3.9/site-packages (from pydantic<3,>=1.9.0->openai) (2.16.3)\n"
     ]
    }
   ],
   "source": [
    "!pip install langchain\n",
    "!pip install openai"
   ]
  },
  {
   "cell_type": "code",
   "execution_count": 2,
   "id": "3cea455d-2c71-47ce-aad1-fad73729c601",
   "metadata": {},
   "outputs": [],
   "source": [
    "import os\n",
    "from dotenv import load_dotenv\n",
    "\n",
    "load_dotenv()\n",
    "\n",
    "langchain_key = os.getenv('LANGCHAIN_KEY')"
   ]
  },
  {
   "cell_type": "code",
   "execution_count": 4,
   "id": "df6acf79-d702-4685-a0bb-a96535c06c93",
   "metadata": {},
   "outputs": [
    {
     "name": "stdout",
     "output_type": "stream",
     "text": [
      "Requirement already satisfied: python-dotenv in /Users/akshayprabhakant/miniconda3/lib/python3.9/site-packages (1.0.1)\n"
     ]
    }
   ],
   "source": [
    "!pip install python-dotenv"
   ]
  },
  {
   "cell_type": "code",
   "execution_count": 5,
   "id": "fb5084b3-baf5-454a-b595-fe55b7585b52",
   "metadata": {},
   "outputs": [],
   "source": [
    "from langchain.llms import OpenAI"
   ]
  },
  {
   "cell_type": "code",
   "execution_count": 6,
   "id": "3f8944d1-f6a1-47b0-a2ea-eaab94e93cae",
   "metadata": {},
   "outputs": [
    {
     "name": "stderr",
     "output_type": "stream",
     "text": [
      "/Users/akshayprabhakant/miniconda3/lib/python3.9/site-packages/langchain_core/_api/deprecation.py:117: LangChainDeprecationWarning: The class `langchain_community.llms.openai.OpenAI` was deprecated in langchain-community 0.0.10 and will be removed in 0.2.0. An updated version of the class exists in the langchain-openai package and should be used instead. To use it run `pip install -U langchain-openai` and import as `from langchain_openai import OpenAI`.\n",
      "  warn_deprecated(\n"
     ]
    },
    {
     "ename": "ValidationError",
     "evalue": "1 validation error for OpenAI\n__root__\n  Did not find openai_api_key, please add an environment variable `OPENAI_API_KEY` which contains it, or pass `openai_api_key` as a named parameter. (type=value_error)",
     "output_type": "error",
     "traceback": [
      "\u001b[0;31m---------------------------------------------------------------------------\u001b[0m",
      "\u001b[0;31mValidationError\u001b[0m                           Traceback (most recent call last)",
      "Cell \u001b[0;32mIn[6], line 1\u001b[0m\n\u001b[0;32m----> 1\u001b[0m llm \u001b[38;5;241m=\u001b[39m \u001b[43mOpenAI\u001b[49m\u001b[43m(\u001b[49m\u001b[43mtemperature\u001b[49m\u001b[38;5;241;43m=\u001b[39;49m\u001b[38;5;241;43m0.9\u001b[39;49m\u001b[43m)\u001b[49m\n",
      "File \u001b[0;32m~/miniconda3/lib/python3.9/site-packages/langchain_core/_api/deprecation.py:180\u001b[0m, in \u001b[0;36mdeprecated.<locals>.deprecate.<locals>.finalize.<locals>.warn_if_direct_instance\u001b[0;34m(self, *args, **kwargs)\u001b[0m\n\u001b[1;32m    178\u001b[0m     warned \u001b[38;5;241m=\u001b[39m \u001b[38;5;28;01mTrue\u001b[39;00m\n\u001b[1;32m    179\u001b[0m     emit_warning()\n\u001b[0;32m--> 180\u001b[0m \u001b[38;5;28;01mreturn\u001b[39;00m \u001b[43mwrapped\u001b[49m\u001b[43m(\u001b[49m\u001b[38;5;28;43mself\u001b[39;49m\u001b[43m,\u001b[49m\u001b[43m \u001b[49m\u001b[38;5;241;43m*\u001b[39;49m\u001b[43margs\u001b[49m\u001b[43m,\u001b[49m\u001b[43m \u001b[49m\u001b[38;5;241;43m*\u001b[39;49m\u001b[38;5;241;43m*\u001b[39;49m\u001b[43mkwargs\u001b[49m\u001b[43m)\u001b[49m\n",
      "File \u001b[0;32m~/miniconda3/lib/python3.9/site-packages/langchain_core/load/serializable.py:120\u001b[0m, in \u001b[0;36mSerializable.__init__\u001b[0;34m(self, **kwargs)\u001b[0m\n\u001b[1;32m    119\u001b[0m \u001b[38;5;28;01mdef\u001b[39;00m \u001b[38;5;21m__init__\u001b[39m(\u001b[38;5;28mself\u001b[39m, \u001b[38;5;241m*\u001b[39m\u001b[38;5;241m*\u001b[39mkwargs: Any) \u001b[38;5;241m-\u001b[39m\u001b[38;5;241m>\u001b[39m \u001b[38;5;28;01mNone\u001b[39;00m:\n\u001b[0;32m--> 120\u001b[0m     \u001b[38;5;28;43msuper\u001b[39;49m\u001b[43m(\u001b[49m\u001b[43m)\u001b[49m\u001b[38;5;241;43m.\u001b[39;49m\u001b[38;5;21;43m__init__\u001b[39;49m\u001b[43m(\u001b[49m\u001b[38;5;241;43m*\u001b[39;49m\u001b[38;5;241;43m*\u001b[39;49m\u001b[43mkwargs\u001b[49m\u001b[43m)\u001b[49m\n\u001b[1;32m    121\u001b[0m     \u001b[38;5;28mself\u001b[39m\u001b[38;5;241m.\u001b[39m_lc_kwargs \u001b[38;5;241m=\u001b[39m kwargs\n",
      "File \u001b[0;32m~/miniconda3/lib/python3.9/site-packages/pydantic/v1/main.py:341\u001b[0m, in \u001b[0;36mBaseModel.__init__\u001b[0;34m(__pydantic_self__, **data)\u001b[0m\n\u001b[1;32m    339\u001b[0m values, fields_set, validation_error \u001b[38;5;241m=\u001b[39m validate_model(__pydantic_self__\u001b[38;5;241m.\u001b[39m\u001b[38;5;18m__class__\u001b[39m, data)\n\u001b[1;32m    340\u001b[0m \u001b[38;5;28;01mif\u001b[39;00m validation_error:\n\u001b[0;32m--> 341\u001b[0m     \u001b[38;5;28;01mraise\u001b[39;00m validation_error\n\u001b[1;32m    342\u001b[0m \u001b[38;5;28;01mtry\u001b[39;00m:\n\u001b[1;32m    343\u001b[0m     object_setattr(__pydantic_self__, \u001b[38;5;124m'\u001b[39m\u001b[38;5;124m__dict__\u001b[39m\u001b[38;5;124m'\u001b[39m, values)\n",
      "\u001b[0;31mValidationError\u001b[0m: 1 validation error for OpenAI\n__root__\n  Did not find openai_api_key, please add an environment variable `OPENAI_API_KEY` which contains it, or pass `openai_api_key` as a named parameter. (type=value_error)"
     ]
    }
   ],
   "source": [
    "llm = OpenAI(temperature=0.9)"
   ]
  },
  {
   "cell_type": "code",
   "execution_count": 7,
   "id": "e3b084c2-955d-4d1f-ba8d-b1db05241c9b",
   "metadata": {},
   "outputs": [],
   "source": [
    "os.environ[\"OPENAI_API_KEY\"] = langchain_key"
   ]
  },
  {
   "cell_type": "code",
   "execution_count": 8,
   "id": "db0a0571-b8ac-4797-94ef-f335b85c071a",
   "metadata": {},
   "outputs": [
    {
     "name": "stderr",
     "output_type": "stream",
     "text": [
      "/Users/akshayprabhakant/miniconda3/lib/python3.9/site-packages/langchain_core/_api/deprecation.py:117: LangChainDeprecationWarning: The function `__call__` was deprecated in LangChain 0.1.7 and will be removed in 0.2.0. Use invoke instead.\n",
      "  warn_deprecated(\n"
     ]
    },
    {
     "name": "stdout",
     "output_type": "stream",
     "text": [
      "\n",
      "\n",
      "1. Bucharest - the capital city known for its Old Town, Palace of Parliament, and vibrant nightlife.\n",
      "\n",
      "2. Transylvania - a historic region known for its medieval towns, castles, and stunning landscapes.\n",
      "\n",
      "3. Bran Castle - often associated with the legend of Count Dracula, this castle is a must-visit for history and vampire enthusiasts.\n",
      "\n",
      "4. Cluj-Napoca - a lively university city with a charming old town and plenty of museums and galleries.\n",
      "\n",
      "5. Sinaia - home to Peleș Castle, a stunning Neogothic palace surrounded by beautiful gardens and mountains.\n",
      "\n",
      "6. Sighişoara - a well-preserved medieval citadel and UNESCO World Heritage Site.\n",
      "\n",
      "7. Brasov - a picturesque city with a stunning mountain backdrop, perfect for outdoor activities like hiking and skiing.\n",
      "\n",
      "8. Sibiu - a cultural hub with a rich history, charming old town, and annual music and theater festivals.\n",
      "\n",
      "9. Maramureș - a rural region known for its traditional wooden churches, idyllic villages, and warm hospitality.\n",
      "\n",
      "10. Danube Delta - a unique natural wonder with a diverse ecosystem and opportunities for birdwatching and boat trips.\n"
     ]
    }
   ],
   "source": [
    "llm = OpenAI(temperature=0.9)\n",
    "text = \"Tell me some good places to visit in Romania.\"\n",
    "print(llm(text))"
   ]
  }
 ],
 "metadata": {
  "kernelspec": {
   "display_name": "Python 3 (ipykernel)",
   "language": "python",
   "name": "python3"
  },
  "language_info": {
   "codemirror_mode": {
    "name": "ipython",
    "version": 3
   },
   "file_extension": ".py",
   "mimetype": "text/x-python",
   "name": "python",
   "nbconvert_exporter": "python",
   "pygments_lexer": "ipython3",
   "version": "3.9.12"
  }
 },
 "nbformat": 4,
 "nbformat_minor": 5
}
